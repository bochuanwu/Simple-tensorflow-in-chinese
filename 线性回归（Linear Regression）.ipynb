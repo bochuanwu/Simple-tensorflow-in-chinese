{
 "cells": [
  {
   "cell_type": "code",
   "execution_count": 1,
   "metadata": {},
   "outputs": [],
   "source": [
    "import tensorflow as tf\n",
    "import numpy\n",
    "import matplotlib.pyplot as plt\n",
    "rng = numpy.random"
   ]
  },
  {
   "cell_type": "code",
   "execution_count": 2,
   "metadata": {},
   "outputs": [],
   "source": [
    "# 参数\n",
    "learning_rate = 0.01\n",
    "training_epochs = 1000\n",
    "display_step = 50"
   ]
  },
  {
   "cell_type": "code",
   "execution_count": 3,
   "metadata": {},
   "outputs": [],
   "source": [
    "# 训练数据\n",
    "train_X = numpy.asarray([3.3,4.4,5.5,6.71,6.93,4.168,9.779,6.182,7.59,2.167,\n",
    "                         7.042,10.791,5.313,7.997,5.654,9.27,3.1])\n",
    "train_Y = numpy.asarray([1.7,2.76,2.09,3.19,1.694,1.573,3.366,2.596,2.53,1.221,\n",
    "                         2.827,3.465,1.65,2.904,2.42,2.94,1.3])\n",
    "n_samples = train_X.shape[0] #训练集数量"
   ]
  },
  {
   "cell_type": "code",
   "execution_count": 8,
   "metadata": {},
   "outputs": [],
   "source": [
    "# tf Graph Input\n",
    "#另一种写法tf.placeholder(\"float\"） 要remove掉了\n",
    "X = tf.placeholder(tf.float32)\n",
    "Y = tf.placeholder(tf.float32)\n",
    "\n",
    "# 初始化模型权重\n",
    "W = tf.Variable(rng.randn(), name=\"weight\")\n",
    "b = tf.Variable(rng.randn(), name=\"bias\")"
   ]
  },
  {
   "cell_type": "code",
   "execution_count": 9,
   "metadata": {},
   "outputs": [],
   "source": [
    "# 建立一个线性模型pred = wx+b\n",
    "pred = tf.add(tf.multiply(X, W), b)"
   ]
  },
  {
   "cell_type": "code",
   "execution_count": 10,
   "metadata": {},
   "outputs": [],
   "source": [
    "# Mean squared error（MSE)\n",
    "cost = tf.reduce_sum(tf.pow(pred-Y, 2))/(2*n_samples)\n",
    "# 梯度下降tf.train.GradientDescentOptimizer\n",
    "optimizer = tf.train.GradientDescentOptimizer(learning_rate).minimize(cost)"
   ]
  },
  {
   "cell_type": "code",
   "execution_count": 11,
   "metadata": {},
   "outputs": [],
   "source": [
    "# 初始化变量\n",
    "init = tf.global_variables_initializer()"
   ]
  },
  {
   "cell_type": "code",
   "execution_count": 14,
   "metadata": {},
   "outputs": [
    {
     "name": "stdout",
     "output_type": "stream",
     "text": [
      "Epoch: 0050 cost= 0.077095859 W= 0.24409671 b= 0.8410104\n",
      "Epoch: 0100 cost= 0.077084184 W= 0.24442379 b= 0.8386577\n",
      "Epoch: 0150 cost= 0.077073827 W= 0.2447313 b= 0.8364454\n",
      "Epoch: 0200 cost= 0.077064641 W= 0.24502051 b= 0.8343648\n",
      "Epoch: 0250 cost= 0.077056512 W= 0.2452926 b= 0.8324073\n",
      "Epoch: 0300 cost= 0.077049270 W= 0.24554859 b= 0.83056563\n",
      "Epoch: 0350 cost= 0.077042863 W= 0.24578911 b= 0.82883555\n",
      "Epoch: 0400 cost= 0.077037156 W= 0.24601543 b= 0.8272074\n",
      "Epoch: 0450 cost= 0.077032089 W= 0.24622841 b= 0.8256752\n",
      "Epoch: 0500 cost= 0.077027589 W= 0.24642883 b= 0.8242335\n",
      "Epoch: 0550 cost= 0.077023603 W= 0.24661694 b= 0.8228804\n",
      "Epoch: 0600 cost= 0.077020071 W= 0.2467941 b= 0.82160574\n",
      "Epoch: 0650 cost= 0.077016927 W= 0.24696063 b= 0.8204079\n",
      "Epoch: 0700 cost= 0.077014118 W= 0.2471174 b= 0.81927997\n",
      "Epoch: 0750 cost= 0.077011622 W= 0.24726495 b= 0.8182187\n",
      "Epoch: 0800 cost= 0.077009402 W= 0.24740353 b= 0.81722194\n",
      "Epoch: 0850 cost= 0.077007443 W= 0.2475338 b= 0.8162847\n",
      "Epoch: 0900 cost= 0.077005684 W= 0.24765635 b= 0.8154029\n",
      "Epoch: 0950 cost= 0.077004135 W= 0.24777153 b= 0.81457406\n",
      "Epoch: 1000 cost= 0.077002734 W= 0.24788009 b= 0.813793\n",
      "优化结束!\n",
      "训练损失= 0.077002734 W= 0.24788009 b= 0.813793 \n",
      "\n"
     ]
    },
    {
     "data": {
      "image/png": "[encoded data removed]",
      "text/plain": [
       "<Figure size 432x288 with 1 Axes>"
      ]
     },
     "metadata": {
      "needs_background": "light"
     },
     "output_type": "display_data"
    }
   ],
   "source": [
    "#开始训练\n",
    "with tf.Session() as sess:\n",
    "    sess.run(init)\n",
    "    # 使用所有数据\n",
    "    for epoch in range(training_epochs):\n",
    "        for (x, y) in zip(train_X, train_Y):\n",
    "            sess.run(optimizer, feed_dict={X: x, Y: y})\n",
    "\n",
    "        #每一个epoch展示一次cost\n",
    "        if (epoch+1) % display_step == 0:\n",
    "            c = sess.run(cost, feed_dict={X: train_X, Y:train_Y})\n",
    "            print(\"Epoch:\", '%04d' % (epoch+1), \"cost=\", \"{:.9f}\".format(c), \\\n",
    "                \"W=\", sess.run(W), \"b=\", sess.run(b))\n",
    "\n",
    "    print(\"优化结束!\")\n",
    "    training_cost = sess.run(cost, feed_dict={X: train_X, Y: train_Y})\n",
    "    print(\"训练损失=\", training_cost, \"W=\", sess.run(W), \"b=\", sess.run(b), '\\n')\n",
    "\n",
    "    #展示图\n",
    "    plt.plot(train_X, train_Y, 'ro', label='Original data')\n",
    "    plt.plot(train_X, sess.run(W) * train_X + sess.run(b), label='Fitted line')\n",
    "    plt.legend()\n",
    "    plt.show()"
   ]
  },
  {
   "cell_type": "code",
   "execution_count": null,
   "metadata": {},
   "outputs": [],
   "source": []
  }
 ],
 "metadata": {
  "kernelspec": {
   "display_name": "Python 3",
   "language": "python",
   "name": "python3"
  },
  "language_info": {
   "codemirror_mode": {
    "name": "ipython",
    "version": 3
   },
   "file_extension": ".py",
   "mimetype": "text/x-python",
   "name": "python",
   "nbconvert_exporter": "python",
   "pygments_lexer": "ipython3",
   "version": "3.6.8"
  }
 },
 "nbformat": 4,
 "nbformat_minor": 2
}
