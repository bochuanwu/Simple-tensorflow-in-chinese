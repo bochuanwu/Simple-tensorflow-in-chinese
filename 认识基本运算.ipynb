{
 "cells": [
  {
   "cell_type": "code",
   "execution_count": 1,
   "metadata": {},
   "outputs": [],
   "source": [
    "import tensorflow as tf"
   ]
  },
  {
   "cell_type": "code",
   "execution_count": 2,
   "metadata": {},
   "outputs": [],
   "source": [
    "#定义两个常量(constant op)\n",
    "a = tf.constant(2)\n",
    "b = tf.constant(3)"
   ]
  },
  {
   "cell_type": "code",
   "execution_count": 3,
   "metadata": {},
   "outputs": [
    {
     "name": "stdout",
     "output_type": "stream",
     "text": [
      "常量a: 2 常量b: 3\n",
      "常量相加为: 5\n",
      "常量相乘为: 6\n"
     ]
    }
   ],
   "source": [
    "with tf.Session() as sess:  #sess = tf.Session 的另一种写法\n",
    "    print(\"常量a: %i\" % sess.run(a), \"常量b: %i\" % sess.run(b)) #单独运行常量a和b，没有运算直接得到值\n",
    "    print(\"常量相加为: %i\" % sess.run(a+b))#对a和b进行加法运算\n",
    "    print(\"常量相乘为: %i\" % sess.run(a*b))#对a和b进行乘法运算"
   ]
  },
  {
   "cell_type": "code",
   "execution_count": 4,
   "metadata": {},
   "outputs": [],
   "source": [
    "# 定义变量（variable op） 作为输入\n",
    "# 不需要定义固定值，int16为变量类型，默认应该是float32\n",
    "a = tf.placeholder(tf.int16)\n",
    "b = tf.placeholder(tf.int16)"
   ]
  },
  {
   "cell_type": "code",
   "execution_count": 5,
   "metadata": {},
   "outputs": [],
   "source": [
    "# 定义一些基本运算\n",
    "#相加 相乘\n",
    "add = tf.add(a, b)  \n",
    "mul = tf.multiply(a, b)"
   ]
  },
  {
   "cell_type": "code",
   "execution_count": 6,
   "metadata": {},
   "outputs": [
    {
     "name": "stdout",
     "output_type": "stream",
     "text": [
      "变量相加为: 5\n",
      "变量相乘为: 6\n"
     ]
    }
   ],
   "source": [
    "# 运行default graph\n",
    "with tf.Session() as sess:\n",
    "    # 使用变量输入进行基本运算，使用feed_dict 给变量赋值\n",
    "    print (\"变量相加为: %i\" % sess.run(add, feed_dict={a: 2, b: 3}))\n",
    "    print (\"变量相乘为: %i\" % sess.run(mul, feed_dict={a: 2, b: 3}))"
   ]
  },
  {
   "cell_type": "code",
   "execution_count": 7,
   "metadata": {},
   "outputs": [],
   "source": [
    "# Tensorflow 中的矩阵乘法\n",
    "# 创建一个常量op 生成一个 1x2矩阵\n",
    "matrix1 = tf.constant([[3., 3.]])"
   ]
  },
  {
   "cell_type": "code",
   "execution_count": 8,
   "metadata": {},
   "outputs": [],
   "source": [
    "# 创建另一个常量op 生成一个 2x1矩阵\n",
    "matrix2 = tf.constant([[2.],[2.]])"
   ]
  },
  {
   "cell_type": "code",
   "execution_count": 9,
   "metadata": {},
   "outputs": [],
   "source": [
    "# 定义一个乘法运算，将matrix1, matrix2作为输入（input）\n",
    "# 运算返回的product 代表运算结果\n",
    "product = tf.matmul(matrix1, matrix2)"
   ]
  },
  {
   "cell_type": "code",
   "execution_count": 10,
   "metadata": {},
   "outputs": [
    {
     "name": "stdout",
     "output_type": "stream",
     "text": [
      "[[12.]]\n"
     ]
    }
   ],
   "source": [
    "# 通过run()来调用运算，product来源于 matmul运算结果，\n",
    "#所有的输入(input matrix1, matrix2) 将由session自动运行\n",
    "# 所以最终run 调用了三个节点op\n",
    "# tensorflow图（graph）: 2个常量和一个相乘运算\n",
    "#\n",
    "# 输出节点 'result' 是一个numpy `ndarray` 类\n",
    "with tf.Session() as sess:\n",
    "    result = sess.run(product)\n",
    "    print(result)"
   ]
  },
  {
   "cell_type": "code",
   "execution_count": 11,
   "metadata": {},
   "outputs": [
    {
     "data": {
      "text/plain": [
       "dtype('float32')"
      ]
     },
     "execution_count": 11,
     "metadata": {},
     "output_type": "execute_result"
    }
   ],
   "source": [
    "#tensorflow 默认float32\n",
    "result.dtype"
   ]
  },
  {
   "cell_type": "code",
   "execution_count": null,
   "metadata": {},
   "outputs": [],
   "source": []
  }
 ],
 "metadata": {
  "kernelspec": {
   "display_name": "Python 3",
   "language": "python",
   "name": "python3"
  },
  "language_info": {
   "codemirror_mode": {
    "name": "ipython",
    "version": 3
   },
   "file_extension": ".py",
   "mimetype": "text/x-python",
   "name": "python",
   "nbconvert_exporter": "python",
   "pygments_lexer": "ipython3",
   "version": "3.6.8"
  }
 },
 "nbformat": 4,
 "nbformat_minor": 2
}
